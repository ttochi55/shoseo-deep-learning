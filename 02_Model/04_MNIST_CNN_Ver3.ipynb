{
  "nbformat": 4,
  "nbformat_minor": 0,
  "metadata": {
    "colab": {
      "name": "04_MNIST_CNN-Ver3.ipynb",
      "provenance": [],
      "collapsed_sections": []
    },
    "kernelspec": {
      "name": "python3",
      "display_name": "Python 3"
    },
    "accelerator": "GPU"
  },
  "cells": [
    {
      "cell_type": "markdown",
      "metadata": {
        "id": "omxoKSLWL_mz"
      },
      "source": [
        "# MNIST 손글씨 - Convolutional Neural Network - Ver3"
      ]
    },
    {
      "cell_type": "code",
      "metadata": {
        "id": "4aWh943cL0aa"
      },
      "source": [
        "import numpy as np\n",
        "import tensorflow as tf"
      ],
      "execution_count": 1,
      "outputs": []
    },
    {
      "cell_type": "code",
      "metadata": {
        "id": "D9MVDxhiMTgj"
      },
      "source": [
        "# 실행할 때마다 같은 결과를 출력하기 위한 seed 값 설정\n",
        "seed = 2021\n",
        "np.random.seed(seed)\n",
        "tf.random.set_seed(seed)"
      ],
      "execution_count": 2,
      "outputs": []
    },
    {
      "cell_type": "markdown",
      "metadata": {
        "id": "InWA7PntMjUP"
      },
      "source": [
        "## 데이터 전처리"
      ]
    },
    {
      "cell_type": "code",
      "metadata": {
        "colab": {
          "base_uri": "https://localhost:8080/"
        },
        "id": "bmsDMoU-MGhy",
        "outputId": "37ea4d23-37a3-4970-db36-f72beac98c65"
      },
      "source": [
        "from tensorflow.keras.datasets import mnist\n",
        "(X_train, Y_class_train), (X_test, Y_class_test) = mnist.load_data()"
      ],
      "execution_count": 3,
      "outputs": [
        {
          "output_type": "stream",
          "text": [
            "Downloading data from https://storage.googleapis.com/tensorflow/tf-keras-datasets/mnist.npz\n",
            "11493376/11490434 [==============================] - 0s 0us/step\n"
          ],
          "name": "stdout"
        }
      ]
    },
    {
      "cell_type": "code",
      "metadata": {
        "colab": {
          "base_uri": "https://localhost:8080/",
          "height": 265
        },
        "id": "symS0duPMGtX",
        "outputId": "037d65b4-f4d0-4600-95e2-e0b880882535"
      },
      "source": [
        "import matplotlib.pyplot as plt\n",
        "%matplotlib inline\n",
        "plt.imshow(X_train[0], cmap='Greys')\n",
        "plt.show()"
      ],
      "execution_count": 4,
      "outputs": [
        {
          "output_type": "display_data",
          "data": {
            "image/png": "[encoded data removed]",
            "text/plain": [
              "<Figure size 432x288 with 1 Axes>"
            ]
          },
          "metadata": {
            "tags": [],
            "needs_background": "light"
          }
        }
      ]
    },
    {
      "cell_type": "code",
      "metadata": {
        "colab": {
          "base_uri": "https://localhost:8080/"
        },
        "id": "8jlX9qPxi_L5",
        "outputId": "7de399ed-6990-4280-8399-1793ec5e7c8e"
      },
      "source": [
        "X_train = X_train.reshape(-1, 28, 28, 1)\n",
        "X_test = X_test.reshape(-1, 28, 28, 1)\n",
        "X_train.shape, X_test.shape"
      ],
      "execution_count": 5,
      "outputs": [
        {
          "output_type": "execute_result",
          "data": {
            "text/plain": [
              "((60000, 28, 28, 1), (10000, 28, 28, 1))"
            ]
          },
          "metadata": {
            "tags": []
          },
          "execution_count": 5
        }
      ]
    },
    {
      "cell_type": "code",
      "metadata": {
        "id": "Xwhg0SFkMG0n"
      },
      "source": [
        "# 0~1 사이의 값으로 정규화\n",
        "X_train = X_train / 255.0\n",
        "X_test = X_test / 255.0"
      ],
      "execution_count": 6,
      "outputs": []
    },
    {
      "cell_type": "code",
      "metadata": {
        "colab": {
          "base_uri": "https://localhost:8080/"
        },
        "id": "YtupyQH6MG-9",
        "outputId": "d08051f3-52b6-4da9-e313-2b9341b0a538"
      },
      "source": [
        "Y_class_train[0]"
      ],
      "execution_count": 7,
      "outputs": [
        {
          "output_type": "execute_result",
          "data": {
            "text/plain": [
              "5"
            ]
          },
          "metadata": {
            "tags": []
          },
          "execution_count": 7
        }
      ]
    },
    {
      "cell_type": "code",
      "metadata": {
        "colab": {
          "base_uri": "https://localhost:8080/"
        },
        "id": "b1xOtBGfMHAu",
        "outputId": "4b3bd3ff-b7cd-4697-84f4-03d376c2e20f"
      },
      "source": [
        "# Y값을 원핫인코딩으로 변환\n",
        "from tensorflow.keras.utils import to_categorical\n",
        "Y_train = to_categorical(Y_class_train, 10)\n",
        "Y_test = to_categorical(Y_class_test, 10)\n",
        "Y_train[0]"
      ],
      "execution_count": 8,
      "outputs": [
        {
          "output_type": "execute_result",
          "data": {
            "text/plain": [
              "array([0., 0., 0., 0., 0., 1., 0., 0., 0., 0.], dtype=float32)"
            ]
          },
          "metadata": {
            "tags": []
          },
          "execution_count": 8
        }
      ]
    },
    {
      "cell_type": "markdown",
      "metadata": {
        "id": "YQWDK8dHPyKM"
      },
      "source": [
        "## 모델 정의, 설정, 학습"
      ]
    },
    {
      "cell_type": "code",
      "metadata": {
        "id": "JTFr6CnmMHHc"
      },
      "source": [
        "from tensorflow.keras.models import Sequential\n",
        "from tensorflow.keras.layers import Dense, Flatten, Conv2D, MaxPooling2D, Dropout\n",
        "import os\n",
        "MODEL_DIR = './model/'\n",
        "if not os.path.exists(MODEL_DIR):\n",
        "  os.mkdir(MODEL_DIR)"
      ],
      "execution_count": 9,
      "outputs": []
    },
    {
      "cell_type": "code",
      "metadata": {
        "colab": {
          "base_uri": "https://localhost:8080/"
        },
        "id": "cryGdQk9MHK2",
        "outputId": "041cbc7a-2510-4f3a-c556-320ba1b9a5da"
      },
      "source": [
        "model = Sequential()\n",
        "model.add(Conv2D(32, kernel_size=(3,3), input_shape=(28, 28, 1), activation='relu'))\n",
        "model.add(Conv2D(64, kernel_size=(3,3), activation='relu'))\n",
        "model.add(MaxPooling2D(pool_size=2))\n",
        "# Conv2D, MaxPooling2D는 2차원 데이터이기 때문에 Flatten 을 이용하여 1차원 데이터(Dense)로 변환시킨다.\n",
        "model.add(Dropout(0.25))\n",
        "model.add(Flatten())\n",
        "model.add(Dense(512, activation='relu'))\n",
        "model.add(Dense(10, activation='softmax'))\n",
        "model.summary()"
      ],
      "execution_count": 10,
      "outputs": [
        {
          "output_type": "stream",
          "text": [
            "Model: \"sequential\"\n",
            "_________________________________________________________________\n",
            "Layer (type)                 Output Shape              Param #   \n",
            "=================================================================\n",
            "conv2d (Conv2D)              (None, 26, 26, 32)        320       \n",
            "_________________________________________________________________\n",
            "conv2d_1 (Conv2D)            (None, 24, 24, 64)        18496     \n",
            "_________________________________________________________________\n",
            "max_pooling2d (MaxPooling2D) (None, 12, 12, 64)        0         \n",
            "_________________________________________________________________\n",
            "dropout (Dropout)            (None, 12, 12, 64)        0         \n",
            "_________________________________________________________________\n",
            "flatten (Flatten)            (None, 9216)              0         \n",
            "_________________________________________________________________\n",
            "dense (Dense)                (None, 512)               4719104   \n",
            "_________________________________________________________________\n",
            "dense_1 (Dense)              (None, 10)                5130      \n",
            "=================================================================\n",
            "Total params: 4,743,050\n",
            "Trainable params: 4,743,050\n",
            "Non-trainable params: 0\n",
            "_________________________________________________________________\n"
          ],
          "name": "stdout"
        }
      ]
    },
    {
      "cell_type": "code",
      "metadata": {
        "id": "i9Qk0QshMDXA"
      },
      "source": [
        "model.compile(\n",
        "    loss='categorical_crossentropy',\n",
        "    optimizer='adam',\n",
        "    metrics=['accuracy']\n",
        ")"
      ],
      "execution_count": 11,
      "outputs": []
    },
    {
      "cell_type": "code",
      "metadata": {
        "id": "frPsC-KAUf-m"
      },
      "source": [
        "# 모델 저장 조건 설정\n",
        "modelpath = MODEL_DIR + 'best{epoch:03d}-{val_loss:.4f}.hdf5'"
      ],
      "execution_count": 12,
      "outputs": []
    },
    {
      "cell_type": "code",
      "metadata": {
        "id": "FLBdvW-CU4sY"
      },
      "source": [
        "# 모델 최적화 설정\n",
        "from tensorflow.keras.callbacks import ModelCheckpoint, EarlyStopping\n",
        "checkpointer = ModelCheckpoint(\n",
        "    filepath=modelpath, \n",
        "    monitor='val_loss',\n",
        "    verbose=1, \n",
        "    save_best_only=True\n",
        ")\n",
        "early_stopping = EarlyStopping(\n",
        "    monitor='val_loss', \n",
        "    patience=10\n",
        ")"
      ],
      "execution_count": 13,
      "outputs": []
    },
    {
      "cell_type": "code",
      "metadata": {
        "colab": {
          "base_uri": "https://localhost:8080/"
        },
        "id": "Ih87SGw0VHxc",
        "outputId": "9d9173ce-1d61-448c-98a9-221160e114f1"
      },
      "source": [
        "# 모델 실행\n",
        "history = model.fit(\n",
        "    X_train, Y_train,\n",
        "    validation_split=0.2,\n",
        "    epochs=30, \n",
        "    batch_size=200,\n",
        "    verbose=0,\n",
        "    callbacks=[checkpointer, early_stopping]\n",
        ")"
      ],
      "execution_count": 14,
      "outputs": [
        {
          "output_type": "stream",
          "text": [
            "\n",
            "Epoch 00001: val_loss improved from inf to 0.05990, saving model to ./model/best001-0.0599.hdf5\n",
            "\n",
            "Epoch 00002: val_loss improved from 0.05990 to 0.04812, saving model to ./model/best002-0.0481.hdf5\n",
            "\n",
            "Epoch 00003: val_loss improved from 0.04812 to 0.03976, saving model to ./model/best003-0.0398.hdf5\n",
            "\n",
            "Epoch 00004: val_loss did not improve from 0.03976\n",
            "\n",
            "Epoch 00005: val_loss did not improve from 0.03976\n",
            "\n",
            "Epoch 00006: val_loss did not improve from 0.03976\n",
            "\n",
            "Epoch 00007: val_loss did not improve from 0.03976\n",
            "\n",
            "Epoch 00008: val_loss improved from 0.03976 to 0.03943, saving model to ./model/best008-0.0394.hdf5\n",
            "\n",
            "Epoch 00009: val_loss did not improve from 0.03943\n",
            "\n",
            "Epoch 00010: val_loss did not improve from 0.03943\n",
            "\n",
            "Epoch 00011: val_loss did not improve from 0.03943\n",
            "\n",
            "Epoch 00012: val_loss did not improve from 0.03943\n",
            "\n",
            "Epoch 00013: val_loss did not improve from 0.03943\n",
            "\n",
            "Epoch 00014: val_loss did not improve from 0.03943\n",
            "\n",
            "Epoch 00015: val_loss did not improve from 0.03943\n",
            "\n",
            "Epoch 00016: val_loss did not improve from 0.03943\n",
            "\n",
            "Epoch 00017: val_loss did not improve from 0.03943\n",
            "\n",
            "Epoch 00018: val_loss did not improve from 0.03943\n"
          ],
          "name": "stdout"
        }
      ]
    },
    {
      "cell_type": "code",
      "metadata": {
        "id": "qYpJ-NjnVLKE"
      },
      "source": [
        "from tensorflow.keras.models import load_model\n",
        "best_model = load_model('./model/best008-0.0394.hdf5')"
      ],
      "execution_count": 15,
      "outputs": []
    },
    {
      "cell_type": "code",
      "metadata": {
        "colab": {
          "base_uri": "https://localhost:8080/"
        },
        "id": "DXb1kJ-XVJ31",
        "outputId": "15fe1d3f-5832-4500-aff1-a24fe63ed8e4"
      },
      "source": [
        "# 테스트 정확도 출력\n",
        "acc = model.evaluate(X_test, Y_test, verbose=2)[1]\n",
        "print('\\n Test Accuracy: %.4f' % acc)"
      ],
      "execution_count": 16,
      "outputs": [
        {
          "output_type": "stream",
          "text": [
            "313/313 - 1s - loss: 0.0499 - accuracy: 0.9899\n",
            "\n",
            " Test Accuracy: 0.9899\n"
          ],
          "name": "stdout"
        }
      ]
    },
    {
      "cell_type": "markdown",
      "metadata": {
        "id": "rukhLGchWq1M"
      },
      "source": [
        "## 훈련 과정 시각화"
      ]
    },
    {
      "cell_type": "code",
      "metadata": {
        "id": "vwA3K30HVKDY"
      },
      "source": [
        "# 검증셋의 오차\n",
        "y_vloss = history.history['val_loss']\n",
        "\n",
        "# 학습셋의 오차\n",
        "y_loss = history.history['loss']"
      ],
      "execution_count": 17,
      "outputs": []
    },
    {
      "cell_type": "code",
      "metadata": {
        "colab": {
          "base_uri": "https://localhost:8080/",
          "height": 388
        },
        "id": "AqnZf0sfW7Sj",
        "outputId": "7ea6fced-7939-4860-a93a-ac707dd32001"
      },
      "source": [
        "import matplotlib.pyplot as plt\n",
        "%matplotlib inline\n",
        "\n",
        "# 그래프로 표현\n",
        "x_len = np.arange(1, len(y_loss)+1)\n",
        "plt.figure(figsize=(8,6))\n",
        "plt.plot(x_len, y_vloss, marker='.', c='red', label='Validationset_loss')\n",
        "plt.plot(x_len, y_loss, marker='.', c='blue', label='Trainset_loss')\n",
        "\n",
        "# 그래프에 그리드를 주고 레이블을 표시\n",
        "plt.legend(loc='upper right')\n",
        "plt.grid()\n",
        "plt.xlabel('epoch')\n",
        "plt.ylabel('loss')\n",
        "plt.show()"
      ],
      "execution_count": 18,
      "outputs": [
        {
          "output_type": "display_data",
          "data": {
            "image/png": "[encoded data removed]",
            "text/plain": [
              "<Figure size 576x432 with 1 Axes>"
            ]
          },
          "metadata": {
            "tags": [],
            "needs_background": "light"
          }
        }
      ]
    },
    {
      "cell_type": "code",
      "metadata": {
        "id": "Wu_ggSZlXT7g"
      },
      "source": [
        ""
      ],
      "execution_count": null,
      "outputs": []
    }
  ]
}