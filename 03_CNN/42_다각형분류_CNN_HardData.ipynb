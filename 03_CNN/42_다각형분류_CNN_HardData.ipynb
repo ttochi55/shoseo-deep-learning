{
  "nbformat": 4,
  "nbformat_minor": 0,
  "metadata": {
    "colab": {
      "name": "42_다각형분류_CNN_HardData.ipynb",
      "provenance": [],
      "collapsed_sections": []
    },
    "kernelspec": {
      "name": "python3",
      "display_name": "Python 3"
    },
    "accelerator": "GPU"
  },
  "cells": [
    {
      "cell_type": "markdown",
      "metadata": {
        "id": "Md6HbBuacaHW"
      },
      "source": [
        "# 다각형분류 CNN\n",
        "- [컨볼루션 신경망 모델 만들어보기](https://tykimos.github.io/2017/03/08/CNN_Getting_Started/)"
      ]
    },
    {
      "cell_type": "code",
      "metadata": {
        "colab": {
          "base_uri": "https://localhost:8080/"
        },
        "id": "WHZmuqDhaZAP",
        "outputId": "4ed6d08e-6b84-4abb-bc2b-aa70b230917e"
      },
      "source": [
        "from google.colab import drive\n",
        "drive.mount('/content/drive')"
      ],
      "execution_count": 1,
      "outputs": [
        {
          "output_type": "stream",
          "text": [
            "Drive already mounted at /content/drive; to attempt to forcibly remount, call drive.mount(\"/content/drive\", force_remount=True).\n"
          ],
          "name": "stdout"
        }
      ]
    },
    {
      "cell_type": "code",
      "metadata": {
        "colab": {
          "base_uri": "https://localhost:8080/"
        },
        "id": "3po7n046cjFo",
        "outputId": "83a2aeeb-4ed8-4299-d7d6-51a91253d71d"
      },
      "source": [
        "!cp /content/drive/MyDrive/Colab\\ Notebooks/datasets/handwriting/handwriting_shape.zip .\n",
        "!cp /content/drive/MyDrive/Colab\\ Notebooks/datasets/handwriting/hard_handwriting_shape.zip .\n",
        "\n",
        "# unzipping compressed file\n",
        "!unzip -qq handwriting_shape.zip -d handwriting_shape\n",
        "!unzip -qq hard_handwriting_shape.zip -d hard_handwriting_shape"
      ],
      "execution_count": 2,
      "outputs": [
        {
          "output_type": "stream",
          "text": [
            "replace handwriting_shape/test/circle/circle016.png? [y]es, [n]o, [A]ll, [N]one, [r]ename: n\n",
            "replace handwriting_shape/test/circle/circle017.png? [y]es, [n]o, [A]ll, [N]one, [r]ename: n\n",
            "replace handwriting_shape/test/circle/circle018.png? [y]es, [n]o, [A]ll, [N]one, [r]ename: a\n",
            "error:  invalid response [a]\n",
            "replace handwriting_shape/test/circle/circle018.png? [y]es, [n]o, [A]ll, [N]one, [r]ename: n\n",
            "replace handwriting_shape/test/circle/circle019.png? [y]es, [n]o, [A]ll, [N]one, [r]ename: n\n",
            "replace handwriting_shape/test/circle/circle020.png? [y]es, [n]o, [A]ll, [N]one, [r]ename: n\n",
            "replace handwriting_shape/test/rectangle/rectangle016.png? [y]es, [n]o, [A]ll, [N]one, [r]ename: n\n",
            "replace handwriting_shape/test/rectangle/rectangle017.png? [y]es, [n]o, [A]ll, [N]one, [r]ename: replace hard_handwriting_shape/test/circle/circle021.png? [y]es, [n]o, [A]ll, [N]one, [r]ename: "
          ],
          "name": "stdout"
        }
      ]
    },
    {
      "cell_type": "markdown",
      "metadata": {
        "id": "Y2cPsxbGdkpU"
      },
      "source": [
        "## 1. CNN 모델"
      ]
    },
    {
      "cell_type": "code",
      "metadata": {
        "id": "dDv0IPX5cv0h"
      },
      "source": [
        "import numpy as np\n",
        "import tensorflow as tf\n",
        "from tensorflow.keras.models import Sequential\n",
        "from tensorflow.keras.layers import Dense, Flatten, Conv2D, MaxPooling2D, Dropout\n",
        "from tensorflow.keras.preprocessing.image import ImageDataGenerator\n",
        "\n",
        "# seed 값 설정\n",
        "seed = 2021\n",
        "np.random.seed(seed)\n",
        "tf.random.set_seed(seed)"
      ],
      "execution_count": 3,
      "outputs": []
    },
    {
      "cell_type": "markdown",
      "metadata": {
        "id": "AFJYkfydeKf9"
      },
      "source": [
        "## 데이터셋 생성하기"
      ]
    },
    {
      "cell_type": "code",
      "metadata": {
        "colab": {
          "base_uri": "https://localhost:8080/"
        },
        "id": "p7P40OWRcv3m",
        "outputId": "4d0855ad-0b83-4f6c-b735-1fba3defbb62"
      },
      "source": [
        "train_datagen = ImageDataGenerator(rescale=1./255)\n",
        "train_generator = train_datagen.flow_from_directory(\n",
        "    'hard_handwriting_shape/train',\n",
        "    target_size=(24,24),\n",
        "    batch_size=3,\n",
        "    class_mode='categorical'\n",
        ")"
      ],
      "execution_count": 4,
      "outputs": [
        {
          "output_type": "stream",
          "text": [
            "Found 45 images belonging to 3 classes.\n"
          ],
          "name": "stdout"
        }
      ]
    },
    {
      "cell_type": "code",
      "metadata": {
        "colab": {
          "base_uri": "https://localhost:8080/"
        },
        "id": "84CY3NUZcv6y",
        "outputId": "e979bd43-953a-4862-94cf-6f8b7c16252c"
      },
      "source": [
        "!ls handwriting_shape/train"
      ],
      "execution_count": 5,
      "outputs": [
        {
          "output_type": "stream",
          "text": [
            "circle\trectangle  triangle\n"
          ],
          "name": "stdout"
        }
      ]
    },
    {
      "cell_type": "code",
      "metadata": {
        "colab": {
          "base_uri": "https://localhost:8080/"
        },
        "id": "VQzu-Yracv9l",
        "outputId": "6bc4522e-cc44-4eca-e32f-725f466c65dd"
      },
      "source": [
        "test_datagen = ImageDataGenerator(rescale=1./255)\n",
        "test_generator = test_datagen.flow_from_directory(\n",
        "    'hard_handwriting_shape/test',\n",
        "    target_size=(24,24),\n",
        "    batch_size=3,\n",
        "    class_mode='categorical'\n",
        ")"
      ],
      "execution_count": 6,
      "outputs": [
        {
          "output_type": "stream",
          "text": [
            "Found 15 images belonging to 3 classes.\n"
          ],
          "name": "stdout"
        }
      ]
    },
    {
      "cell_type": "code",
      "metadata": {
        "colab": {
          "base_uri": "https://localhost:8080/"
        },
        "id": "Fpt1ZGhZcwAL",
        "outputId": "cc04395c-7acb-4814-92d6-ede74c3d9c08"
      },
      "source": [
        "!ls handwriting_shape/test"
      ],
      "execution_count": 7,
      "outputs": [
        {
          "output_type": "stream",
          "text": [
            "circle\trectangle  triangle\n"
          ],
          "name": "stdout"
        }
      ]
    },
    {
      "cell_type": "code",
      "metadata": {
        "colab": {
          "base_uri": "https://localhost:8080/"
        },
        "id": "ixkSBjaOcwDG",
        "outputId": "ce410526-e269-4808-b297-f2aa1af500ad"
      },
      "source": [
        "train_generator.labels"
      ],
      "execution_count": 8,
      "outputs": [
        {
          "output_type": "execute_result",
          "data": {
            "text/plain": [
              "array([0, 0, 0, 0, 0, 0, 0, 0, 0, 0, 0, 0, 0, 0, 0, 1, 1, 1, 1, 1, 1, 1,\n",
              "       1, 1, 1, 1, 1, 1, 1, 1, 2, 2, 2, 2, 2, 2, 2, 2, 2, 2, 2, 2, 2, 2,\n",
              "       2], dtype=int32)"
            ]
          },
          "metadata": {
            "tags": []
          },
          "execution_count": 8
        }
      ]
    },
    {
      "cell_type": "code",
      "metadata": {
        "colab": {
          "base_uri": "https://localhost:8080/",
          "height": 35
        },
        "id": "2_YEog4ees8b",
        "outputId": "f496fed0-3904-47a2-d1fe-ffa93452e9cb"
      },
      "source": [
        "train_generator.filenames[0]"
      ],
      "execution_count": 9,
      "outputs": [
        {
          "output_type": "execute_result",
          "data": {
            "application/vnd.google.colaboratory.intrinsic+json": {
              "type": "string"
            },
            "text/plain": [
              "'circle/circle001.png'"
            ]
          },
          "metadata": {
            "tags": []
          },
          "execution_count": 9
        }
      ]
    },
    {
      "cell_type": "markdown",
      "metadata": {
        "id": "T8HsqtJbfK0n"
      },
      "source": [
        "## 모델 정의/설정/학습"
      ]
    },
    {
      "cell_type": "code",
      "metadata": {
        "colab": {
          "base_uri": "https://localhost:8080/"
        },
        "id": "CWs438o-es_c",
        "outputId": "2a1c3d50-0748-4055-e095-96b64b4c15ce"
      },
      "source": [
        "model = Sequential()\n",
        "model.add(Conv2D(32, kernel_size=(3, 3),\n",
        "                 activation='relu',\n",
        "                 input_shape=(24,24,3)))\n",
        "model.add(Conv2D(64, (3, 3), activation='relu'))\n",
        "model.add(MaxPooling2D(pool_size=(2, 2)))\n",
        "model.add(Flatten())\n",
        "model.add(Dense(128, activation='relu'))\n",
        "model.add(Dense(3, activation='softmax'))\n",
        "model.summary()"
      ],
      "execution_count": 10,
      "outputs": [
        {
          "output_type": "stream",
          "text": [
            "Model: \"sequential\"\n",
            "_________________________________________________________________\n",
            "Layer (type)                 Output Shape              Param #   \n",
            "=================================================================\n",
            "conv2d (Conv2D)              (None, 22, 22, 32)        896       \n",
            "_________________________________________________________________\n",
            "conv2d_1 (Conv2D)            (None, 20, 20, 64)        18496     \n",
            "_________________________________________________________________\n",
            "max_pooling2d (MaxPooling2D) (None, 10, 10, 64)        0         \n",
            "_________________________________________________________________\n",
            "flatten (Flatten)            (None, 6400)              0         \n",
            "_________________________________________________________________\n",
            "dense (Dense)                (None, 128)               819328    \n",
            "_________________________________________________________________\n",
            "dense_1 (Dense)              (None, 3)                 387       \n",
            "=================================================================\n",
            "Total params: 839,107\n",
            "Trainable params: 839,107\n",
            "Non-trainable params: 0\n",
            "_________________________________________________________________\n"
          ],
          "name": "stdout"
        }
      ]
    },
    {
      "cell_type": "code",
      "metadata": {
        "id": "idvzkPeietCn"
      },
      "source": [
        "model.compile(loss='categorical_crossentropy',\n",
        "              optimizer='adam', metrics=['accuracy'])"
      ],
      "execution_count": 11,
      "outputs": []
    },
    {
      "cell_type": "markdown",
      "metadata": {
        "id": "v44g-1H4gpFq"
      },
      "source": [
        "## 모델 학습시키기\n",
        "\n",
        "케라스에서는 모델을 학습시킬 때 주로 fit() 함수를 사용하지만 제네레이터로 생성된 배치로 학습시킬 경우에는 fit_generator() 함수를 사용합니다. 본 예제에서는 ImageDataGenerator라는 제네레이터로 이미지를 담고 있는 배치로 학습시키기 때문에 fit_generator() 함수를 사용하겠습니다.\n",
        "\n",
        "- 첫번째 인자 : 훈련데이터셋을 제공할 제네레이터를 지정합니다. 본 예제에서는 앞서 생성한 train_generator으로 지정합니다.\n",
        "- steps_per_epoch : 한 epoch에 사용한 스텝 수를 지정합니다. 총 45개의 훈련 샘플이 있고 배치사이즈가 3이므로 15 스텝으로 지정합니다.\n",
        "- epochs : 전체 훈련 데이터셋에 대해 학습 반복 횟수를 지정합니다. 100번을 반복적으로 학습시켜 보겠습니다.\n",
        "- validation_data : 검증데이터셋을 제공할 제네레이터를 지정합니다. 본 예제에서는 앞서 생성한 validation_generator으로 지정합니다.\n",
        "- validation_steps : 한 epoch 종료 시 마다 검증할 때 사용되는 검증 스텝 수를 지정합니다. 홍 15개의 검증 샘플이 있고 배치사이즈가 3이므로 5 스텝으로 지정합니다."
      ]
    },
    {
      "cell_type": "code",
      "metadata": {
        "colab": {
          "base_uri": "https://localhost:8080/"
        },
        "id": "gOVnhzOYetE0",
        "outputId": "7c868fcf-1def-4bb1-bf60-1db52e7e5505"
      },
      "source": [
        "model.fit_generator(\n",
        "    train_generator,\n",
        "    steps_per_epoch=15,\n",
        "    epochs=50,\n",
        "    validation_data=test_generator,\n",
        "    validation_steps=5\n",
        ")"
      ],
      "execution_count": 12,
      "outputs": [
        {
          "output_type": "stream",
          "text": [
            "Epoch 1/50\n"
          ],
          "name": "stdout"
        },
        {
          "output_type": "stream",
          "text": [
            "/usr/local/lib/python3.6/dist-packages/tensorflow/python/keras/engine/training.py:1844: UserWarning: `Model.fit_generator` is deprecated and will be removed in a future version. Please use `Model.fit`, which supports generators.\n",
            "  warnings.warn('`Model.fit_generator` is deprecated and '\n"
          ],
          "name": "stderr"
        },
        {
          "output_type": "stream",
          "text": [
            "15/15 [==============================] - 2s 31ms/step - loss: 1.0859 - accuracy: 0.5358 - val_loss: 1.5186 - val_accuracy: 0.3333\n",
            "Epoch 2/50\n",
            "15/15 [==============================] - 0s 7ms/step - loss: 0.2089 - accuracy: 0.9884 - val_loss: 2.7649 - val_accuracy: 0.4000\n",
            "Epoch 3/50\n",
            "15/15 [==============================] - 0s 7ms/step - loss: 0.0136 - accuracy: 1.0000 - val_loss: 3.7904 - val_accuracy: 0.4000\n",
            "Epoch 4/50\n",
            "15/15 [==============================] - 0s 6ms/step - loss: 0.0027 - accuracy: 1.0000 - val_loss: 4.5883 - val_accuracy: 0.4000\n",
            "Epoch 5/50\n",
            "15/15 [==============================] - 0s 6ms/step - loss: 6.6927e-04 - accuracy: 1.0000 - val_loss: 5.1453 - val_accuracy: 0.4000\n",
            "Epoch 6/50\n",
            "15/15 [==============================] - 0s 7ms/step - loss: 4.1056e-04 - accuracy: 1.0000 - val_loss: 5.3565 - val_accuracy: 0.4000\n",
            "Epoch 7/50\n",
            "15/15 [==============================] - 0s 6ms/step - loss: 2.9946e-04 - accuracy: 1.0000 - val_loss: 5.3788 - val_accuracy: 0.4000\n",
            "Epoch 8/50\n",
            "15/15 [==============================] - 0s 7ms/step - loss: 1.9598e-04 - accuracy: 1.0000 - val_loss: 5.4602 - val_accuracy: 0.4000\n",
            "Epoch 9/50\n",
            "15/15 [==============================] - 0s 7ms/step - loss: 1.7896e-04 - accuracy: 1.0000 - val_loss: 5.5196 - val_accuracy: 0.4000\n",
            "Epoch 10/50\n",
            "15/15 [==============================] - 0s 7ms/step - loss: 1.2605e-04 - accuracy: 1.0000 - val_loss: 5.5708 - val_accuracy: 0.4000\n",
            "Epoch 11/50\n",
            "15/15 [==============================] - 0s 7ms/step - loss: 8.8719e-05 - accuracy: 1.0000 - val_loss: 5.6295 - val_accuracy: 0.4000\n",
            "Epoch 12/50\n",
            "15/15 [==============================] - 0s 7ms/step - loss: 9.1308e-05 - accuracy: 1.0000 - val_loss: 5.6497 - val_accuracy: 0.4000\n",
            "Epoch 13/50\n",
            "15/15 [==============================] - 0s 7ms/step - loss: 7.1249e-05 - accuracy: 1.0000 - val_loss: 5.6912 - val_accuracy: 0.4000\n",
            "Epoch 14/50\n",
            "15/15 [==============================] - 0s 7ms/step - loss: 5.7844e-05 - accuracy: 1.0000 - val_loss: 5.7245 - val_accuracy: 0.4000\n",
            "Epoch 15/50\n",
            "15/15 [==============================] - 0s 7ms/step - loss: 3.8951e-05 - accuracy: 1.0000 - val_loss: 5.7645 - val_accuracy: 0.4000\n",
            "Epoch 16/50\n",
            "15/15 [==============================] - 0s 7ms/step - loss: 3.2016e-05 - accuracy: 1.0000 - val_loss: 5.7805 - val_accuracy: 0.4000\n",
            "Epoch 17/50\n",
            "15/15 [==============================] - 0s 7ms/step - loss: 3.6132e-05 - accuracy: 1.0000 - val_loss: 5.8256 - val_accuracy: 0.4000\n",
            "Epoch 18/50\n",
            "15/15 [==============================] - 0s 7ms/step - loss: 4.1193e-05 - accuracy: 1.0000 - val_loss: 5.8607 - val_accuracy: 0.4000\n",
            "Epoch 19/50\n",
            "15/15 [==============================] - 0s 8ms/step - loss: 3.3976e-05 - accuracy: 1.0000 - val_loss: 5.9048 - val_accuracy: 0.4000\n",
            "Epoch 20/50\n",
            "15/15 [==============================] - 0s 7ms/step - loss: 2.8645e-05 - accuracy: 1.0000 - val_loss: 5.9319 - val_accuracy: 0.4000\n",
            "Epoch 21/50\n",
            "15/15 [==============================] - 0s 7ms/step - loss: 2.0475e-05 - accuracy: 1.0000 - val_loss: 5.9648 - val_accuracy: 0.4000\n",
            "Epoch 22/50\n",
            "15/15 [==============================] - 0s 7ms/step - loss: 1.7950e-05 - accuracy: 1.0000 - val_loss: 5.9951 - val_accuracy: 0.4000\n",
            "Epoch 23/50\n",
            "15/15 [==============================] - 0s 7ms/step - loss: 1.8041e-05 - accuracy: 1.0000 - val_loss: 6.0199 - val_accuracy: 0.4000\n",
            "Epoch 24/50\n",
            "15/15 [==============================] - 0s 7ms/step - loss: 1.6440e-05 - accuracy: 1.0000 - val_loss: 6.0536 - val_accuracy: 0.4000\n",
            "Epoch 25/50\n",
            "15/15 [==============================] - 0s 8ms/step - loss: 1.0149e-05 - accuracy: 1.0000 - val_loss: 6.0919 - val_accuracy: 0.4000\n",
            "Epoch 26/50\n",
            "15/15 [==============================] - 0s 7ms/step - loss: 1.1154e-05 - accuracy: 1.0000 - val_loss: 6.1223 - val_accuracy: 0.4000\n",
            "Epoch 27/50\n",
            "15/15 [==============================] - 0s 14ms/step - loss: 1.1340e-05 - accuracy: 1.0000 - val_loss: 6.1327 - val_accuracy: 0.4000\n",
            "Epoch 28/50\n",
            "15/15 [==============================] - 0s 7ms/step - loss: 9.5410e-06 - accuracy: 1.0000 - val_loss: 6.1657 - val_accuracy: 0.4000\n",
            "Epoch 29/50\n",
            "15/15 [==============================] - 0s 7ms/step - loss: 9.9114e-06 - accuracy: 1.0000 - val_loss: 6.2018 - val_accuracy: 0.4000\n",
            "Epoch 30/50\n",
            "15/15 [==============================] - 0s 8ms/step - loss: 9.3691e-06 - accuracy: 1.0000 - val_loss: 6.2272 - val_accuracy: 0.4000\n",
            "Epoch 31/50\n",
            "15/15 [==============================] - 0s 7ms/step - loss: 7.1913e-06 - accuracy: 1.0000 - val_loss: 6.2447 - val_accuracy: 0.4000\n",
            "Epoch 32/50\n",
            "15/15 [==============================] - 0s 7ms/step - loss: 6.2378e-06 - accuracy: 1.0000 - val_loss: 6.2759 - val_accuracy: 0.4000\n",
            "Epoch 33/50\n",
            "15/15 [==============================] - 0s 7ms/step - loss: 6.2261e-06 - accuracy: 1.0000 - val_loss: 6.2900 - val_accuracy: 0.4000\n",
            "Epoch 34/50\n",
            "15/15 [==============================] - 0s 7ms/step - loss: 5.3666e-06 - accuracy: 1.0000 - val_loss: 6.3185 - val_accuracy: 0.4000\n",
            "Epoch 35/50\n",
            "15/15 [==============================] - 0s 7ms/step - loss: 7.2554e-06 - accuracy: 1.0000 - val_loss: 6.3316 - val_accuracy: 0.4000\n",
            "Epoch 36/50\n",
            "15/15 [==============================] - 0s 7ms/step - loss: 5.2098e-06 - accuracy: 1.0000 - val_loss: 6.3513 - val_accuracy: 0.4000\n",
            "Epoch 37/50\n",
            "15/15 [==============================] - 0s 7ms/step - loss: 6.0579e-06 - accuracy: 1.0000 - val_loss: 6.3664 - val_accuracy: 0.4000\n",
            "Epoch 38/50\n",
            "15/15 [==============================] - 0s 7ms/step - loss: 3.6162e-06 - accuracy: 1.0000 - val_loss: 6.3951 - val_accuracy: 0.4000\n",
            "Epoch 39/50\n",
            "15/15 [==============================] - 0s 8ms/step - loss: 4.5182e-06 - accuracy: 1.0000 - val_loss: 6.4181 - val_accuracy: 0.4000\n",
            "Epoch 40/50\n",
            "15/15 [==============================] - 0s 7ms/step - loss: 3.2390e-06 - accuracy: 1.0000 - val_loss: 6.4412 - val_accuracy: 0.4000\n",
            "Epoch 41/50\n",
            "15/15 [==============================] - 0s 7ms/step - loss: 3.5859e-06 - accuracy: 1.0000 - val_loss: 6.4546 - val_accuracy: 0.4000\n",
            "Epoch 42/50\n",
            "15/15 [==============================] - 0s 8ms/step - loss: 3.2464e-06 - accuracy: 1.0000 - val_loss: 6.4721 - val_accuracy: 0.4000\n",
            "Epoch 43/50\n",
            "15/15 [==============================] - 0s 7ms/step - loss: 2.7086e-06 - accuracy: 1.0000 - val_loss: 6.4907 - val_accuracy: 0.4000\n",
            "Epoch 44/50\n",
            "15/15 [==============================] - 0s 7ms/step - loss: 3.3181e-06 - accuracy: 1.0000 - val_loss: 6.5120 - val_accuracy: 0.4000\n",
            "Epoch 45/50\n",
            "15/15 [==============================] - 0s 7ms/step - loss: 3.2548e-06 - accuracy: 1.0000 - val_loss: 6.5271 - val_accuracy: 0.4000\n",
            "Epoch 46/50\n",
            "15/15 [==============================] - 0s 7ms/step - loss: 2.3175e-06 - accuracy: 1.0000 - val_loss: 6.5463 - val_accuracy: 0.4000\n",
            "Epoch 47/50\n",
            "15/15 [==============================] - 0s 7ms/step - loss: 1.9250e-06 - accuracy: 1.0000 - val_loss: 6.5593 - val_accuracy: 0.4000\n",
            "Epoch 48/50\n",
            "15/15 [==============================] - 0s 7ms/step - loss: 2.5830e-06 - accuracy: 1.0000 - val_loss: 6.5747 - val_accuracy: 0.4000\n",
            "Epoch 49/50\n",
            "15/15 [==============================] - 0s 7ms/step - loss: 1.7543e-06 - accuracy: 1.0000 - val_loss: 6.6028 - val_accuracy: 0.4000\n",
            "Epoch 50/50\n",
            "15/15 [==============================] - 0s 7ms/step - loss: 2.3313e-06 - accuracy: 1.0000 - val_loss: 6.6136 - val_accuracy: 0.4000\n"
          ],
          "name": "stdout"
        },
        {
          "output_type": "execute_result",
          "data": {
            "text/plain": [
              "<tensorflow.python.keras.callbacks.History at 0x7f203735df98>"
            ]
          },
          "metadata": {
            "tags": []
          },
          "execution_count": 12
        }
      ]
    },
    {
      "cell_type": "markdown",
      "metadata": {
        "id": "7_qo5r49hcXd"
      },
      "source": [
        "## 모델 평가"
      ]
    },
    {
      "cell_type": "code",
      "metadata": {
        "colab": {
          "base_uri": "https://localhost:8080/"
        },
        "id": "DfQx-NxuetHs",
        "outputId": "2deb7a51-c502-463d-e152-644569628fea"
      },
      "source": [
        "print('-- Evaluate Generator--')\n",
        "scores = model.evaluate_generator(test_generator, steps=5)\n",
        "print('%s: %.2f%%' % (model.metrics_names[1], scores[1]*100))"
      ],
      "execution_count": 13,
      "outputs": [
        {
          "output_type": "stream",
          "text": [
            "-- Evaluate Generator--\n",
            "accuracy: 40.00%\n"
          ],
          "name": "stdout"
        },
        {
          "output_type": "stream",
          "text": [
            "/usr/local/lib/python3.6/dist-packages/tensorflow/python/keras/engine/training.py:1877: UserWarning: `Model.evaluate_generator` is deprecated and will be removed in a future version. Please use `Model.evaluate`, which supports generators.\n",
            "  warnings.warn('`Model.evaluate_generator` is deprecated and '\n"
          ],
          "name": "stderr"
        }
      ]
    },
    {
      "cell_type": "code",
      "metadata": {
        "id": "96x7GzNScwJH"
      },
      "source": [
        ""
      ],
      "execution_count": 13,
      "outputs": []
    }
  ]
}