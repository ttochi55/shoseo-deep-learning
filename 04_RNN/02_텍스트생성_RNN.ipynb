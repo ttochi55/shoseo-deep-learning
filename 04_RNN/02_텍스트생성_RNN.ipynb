{
  "nbformat": 4,
  "nbformat_minor": 0,
  "metadata": {
    "colab": {
      "name": "02_텍스트생성_RNN.ipynb",
      "provenance": [],
      "collapsed_sections": []
    },
    "kernelspec": {
      "name": "python3",
      "display_name": "Python 3"
    },
    "accelerator": "GPU"
  },
  "cells": [
    {
      "cell_type": "markdown",
      "metadata": {
        "id": "iJ5elgCz54YI"
      },
      "source": [
        "# RNN을 이용한 텍스트 생성\n",
        "- '경마장에 있는 말이 뛰고 있다'\n",
        "- '그의 말이 법이다'\n",
        "- '가는 말이 고와야 오는 말이 곱다'"
      ]
    },
    {
      "cell_type": "code",
      "metadata": {
        "id": "WhgNS2aL57AY"
      },
      "source": [
        "import numpy as np\n",
        "import tensorflow as tf\n",
        "from tensorflow.keras.preprocessing.text import Tokenizer\n",
        "from tensorflow.keras.preprocessing.sequence import pad_sequences\n",
        "from tensorflow.keras.utils import to_categorical\n",
        "\n",
        "seed = 2021\n",
        "np.random.seed(seed)\n",
        "tf.random.set_seed(seed)"
      ],
      "execution_count": 1,
      "outputs": []
    },
    {
      "cell_type": "code",
      "metadata": {
        "id": "NzNXLsc_6vZC"
      },
      "source": [
        "# 3개의 문장을 변수에 저장\n",
        "text=\"\"\"경마장에 있는 말이 뛰고 있다\\n\n",
        "그의 말이 법이다\\n\n",
        "가는 말이 고와야 오는 말이 곱다\\n\"\"\""
      ],
      "execution_count": 2,
      "outputs": []
    },
    {
      "cell_type": "code",
      "metadata": {
        "colab": {
          "base_uri": "https://localhost:8080/"
        },
        "id": "whDIEcMU63l5",
        "outputId": "2be42021-0a00-4595-abee-3c9b25bb0dd5"
      },
      "source": [
        "# 단어 집합 생성\n",
        "t = Tokenizer()\n",
        "t.fit_on_texts([text])\n",
        "\n",
        "# bag of word 의 count vectorizer 과 유사함\n",
        "t.word_index"
      ],
      "execution_count": 3,
      "outputs": [
        {
          "output_type": "execute_result",
          "data": {
            "text/plain": [
              "{'가는': 8,\n",
              " '경마장에': 2,\n",
              " '고와야': 9,\n",
              " '곱다': 11,\n",
              " '그의': 6,\n",
              " '뛰고': 4,\n",
              " '말이': 1,\n",
              " '법이다': 7,\n",
              " '오는': 10,\n",
              " '있는': 3,\n",
              " '있다': 5}"
            ]
          },
          "metadata": {
            "tags": []
          },
          "execution_count": 3
        }
      ]
    },
    {
      "cell_type": "code",
      "metadata": {
        "colab": {
          "base_uri": "https://localhost:8080/"
        },
        "id": "yp4zrnVD7xSC",
        "outputId": "143f6138-4322-47f7-c35e-58cbff403648"
      },
      "source": [
        "# 단어 집합 크기 설정\n",
        "vocab_size = len(t.word_index) + 1\n",
        "# 케라스 토크나이저의 정수 인코딩은 인덱스가 1부터 시작하지만,\n",
        "# 케라스 원-핫 인코딩에서 배열의 인덱스가 0부터 시작하기 때문에\n",
        "# 배열의 크기를 실제 단어 집합의 크기보다 +1로 생성해야 함\n",
        "print('단어 집합의 크기: %d' % vocab_size)"
      ],
      "execution_count": 4,
      "outputs": [
        {
          "output_type": "stream",
          "text": [
            "단어 집합의 크기: 12\n"
          ],
          "name": "stdout"
        }
      ]
    },
    {
      "cell_type": "code",
      "metadata": {
        "colab": {
          "base_uri": "https://localhost:8080/"
        },
        "id": "hZPOxdLT7xw6",
        "outputId": "dab83596-2a97-4adf-ebae-e1330e5f1fa1"
      },
      "source": [
        "t.texts_to_sequences(['그의 말이 법이다'])"
      ],
      "execution_count": 5,
      "outputs": [
        {
          "output_type": "execute_result",
          "data": {
            "text/plain": [
              "[[6, 1, 7]]"
            ]
          },
          "metadata": {
            "tags": []
          },
          "execution_count": 5
        }
      ]
    },
    {
      "cell_type": "code",
      "metadata": {
        "colab": {
          "base_uri": "https://localhost:8080/"
        },
        "id": "wMXMUvS07x0O",
        "outputId": "4eb1bb4a-ca79-4b70-9d88-94902ce3b3aa"
      },
      "source": [
        "sequences = []\n",
        "for line in text.split('\\n'): # \\n을 기준으로 문장 토큰화\n",
        "  encoded = t.texts_to_sequences([line])[0]\n",
        "  for i in range(1, len(encoded)):\n",
        "    sequence = encoded[:i+1]\n",
        "    sequences.append(sequence)\n",
        "\n",
        "print('학습에 사용할 샘플의 개수: %d' % len(sequences))"
      ],
      "execution_count": 6,
      "outputs": [
        {
          "output_type": "stream",
          "text": [
            "학습에 사용할 샘플의 개수: 11\n"
          ],
          "name": "stdout"
        }
      ]
    },
    {
      "cell_type": "code",
      "metadata": {
        "colab": {
          "base_uri": "https://localhost:8080/"
        },
        "id": "9ca7OWdA7x3A",
        "outputId": "7c7d1d41-97be-4af0-eb1e-2f2219f5dd22"
      },
      "source": [
        "sequences"
      ],
      "execution_count": 7,
      "outputs": [
        {
          "output_type": "execute_result",
          "data": {
            "text/plain": [
              "[[2, 3],\n",
              " [2, 3, 1],\n",
              " [2, 3, 1, 4],\n",
              " [2, 3, 1, 4, 5],\n",
              " [6, 1],\n",
              " [6, 1, 7],\n",
              " [8, 1],\n",
              " [8, 1, 9],\n",
              " [8, 1, 9, 10],\n",
              " [8, 1, 9, 10, 1],\n",
              " [8, 1, 9, 10, 1, 11]]"
            ]
          },
          "metadata": {
            "tags": []
          },
          "execution_count": 7
        }
      ]
    },
    {
      "cell_type": "code",
      "metadata": {
        "colab": {
          "base_uri": "https://localhost:8080/"
        },
        "id": "30fF7_CT_ur0",
        "outputId": "a291ebf8-973f-46fa-9301-77c19bbfb5db"
      },
      "source": [
        "# 모든 샘플에서 길이가 가장 긴 샘플의 길이 출력\n",
        "max_len = max(len(s) for s in sequences)\n",
        "print('샘플의 최대 길이: ', max_len)"
      ],
      "execution_count": 8,
      "outputs": [
        {
          "output_type": "stream",
          "text": [
            "샘플의 최대 길이:  6\n"
          ],
          "name": "stdout"
        }
      ]
    },
    {
      "cell_type": "code",
      "metadata": {
        "colab": {
          "base_uri": "https://localhost:8080/"
        },
        "id": "ogIAuAAN_vBz",
        "outputId": "72952285-4898-4c9b-8ac1-13410df487b8"
      },
      "source": [
        "# 패딩: 문장의 길이를 최대 길이에 맞추어 주는 방법 - 남는 공간에는 0을 할당한다\n",
        "# 전체 샘플의 길이를 6(가장 긴 샘플의 길이)으로 패딩\n",
        "# 'pre'옵션을 주면 앞을 0으로 할당한다\n",
        "sequences = pad_sequences(sequences, maxlen=max_len, padding='pre')\n",
        "sequences[:5]"
      ],
      "execution_count": 9,
      "outputs": [
        {
          "output_type": "execute_result",
          "data": {
            "text/plain": [
              "array([[0, 0, 0, 0, 2, 3],\n",
              "       [0, 0, 0, 2, 3, 1],\n",
              "       [0, 0, 2, 3, 1, 4],\n",
              "       [0, 2, 3, 1, 4, 5],\n",
              "       [0, 0, 0, 0, 6, 1]], dtype=int32)"
            ]
          },
          "metadata": {
            "tags": []
          },
          "execution_count": 9
        }
      ]
    },
    {
      "cell_type": "code",
      "metadata": {
        "colab": {
          "base_uri": "https://localhost:8080/"
        },
        "id": "pbX54_Fe_vEY",
        "outputId": "2416dd24-f326-42ea-c879-946a1cb5e79d"
      },
      "source": [
        "# 각 샘플의 마지막 단어를 레이블로 분리\n",
        "X = sequences[:, :-1]\n",
        "y = sequences[:, -1]\n",
        "# 리스트의 마지막 값을 제외하고 저장한 것은 X\n",
        "# 리스트의 마지막 값만 저장한 것은 y. 이는 레이블에 해당된다.\n",
        "X[:3]"
      ],
      "execution_count": 10,
      "outputs": [
        {
          "output_type": "execute_result",
          "data": {
            "text/plain": [
              "array([[0, 0, 0, 0, 2],\n",
              "       [0, 0, 0, 2, 3],\n",
              "       [0, 0, 2, 3, 1]], dtype=int32)"
            ]
          },
          "metadata": {
            "tags": []
          },
          "execution_count": 10
        }
      ]
    },
    {
      "cell_type": "code",
      "metadata": {
        "colab": {
          "base_uri": "https://localhost:8080/"
        },
        "id": "UJpK5OMvBB2D",
        "outputId": "5d60e32e-3364-4103-d059-254b64eed371"
      },
      "source": [
        "# 레이블 데이터 y에 대해서 원-핫 인코딩을 수행\n",
        "Y = to_categorical(y, num_classes=vocab_size)\n",
        "Y[:3]"
      ],
      "execution_count": 11,
      "outputs": [
        {
          "output_type": "execute_result",
          "data": {
            "text/plain": [
              "array([[0., 0., 0., 1., 0., 0., 0., 0., 0., 0., 0., 0.],\n",
              "       [0., 1., 0., 0., 0., 0., 0., 0., 0., 0., 0., 0.],\n",
              "       [0., 0., 0., 0., 1., 0., 0., 0., 0., 0., 0., 0.]], dtype=float32)"
            ]
          },
          "metadata": {
            "tags": []
          },
          "execution_count": 11
        }
      ]
    },
    {
      "cell_type": "markdown",
      "metadata": {
        "id": "ubklSy4j6EX7"
      },
      "source": [
        "## 모델 정의\n",
        "\n",
        "- Embedding\n",
        "- SimpleRNN"
      ]
    },
    {
      "cell_type": "code",
      "metadata": {
        "id": "QjGm3bPO57E9"
      },
      "source": [
        "from tensorflow.keras.models import Sequential\n",
        "from tensorflow.keras.layers import Embedding, Dense, SimpleRNN"
      ],
      "execution_count": 12,
      "outputs": []
    },
    {
      "cell_type": "code",
      "metadata": {
        "colab": {
          "base_uri": "https://localhost:8080/"
        },
        "id": "EwtUd7jl57H3",
        "outputId": "f776e36c-cfa8-485d-dfc5-ae0d6e292ce9"
      },
      "source": [
        "model = Sequential()\n",
        "\n",
        "model.add(Embedding(input_dim=vocab_size, output_dim=5, input_length=max_len-1))\n",
        "model.add(SimpleRNN(32))\n",
        "model.add(Dense(units=vocab_size, activation='softmax'))\n",
        "\n",
        "model.summary()"
      ],
      "execution_count": 13,
      "outputs": [
        {
          "output_type": "stream",
          "text": [
            "Model: \"sequential\"\n",
            "_________________________________________________________________\n",
            "Layer (type)                 Output Shape              Param #   \n",
            "=================================================================\n",
            "embedding (Embedding)        (None, 5, 5)              60        \n",
            "_________________________________________________________________\n",
            "simple_rnn (SimpleRNN)       (None, 32)                1216      \n",
            "_________________________________________________________________\n",
            "dense (Dense)                (None, 12)                396       \n",
            "=================================================================\n",
            "Total params: 1,672\n",
            "Trainable params: 1,672\n",
            "Non-trainable params: 0\n",
            "_________________________________________________________________\n"
          ],
          "name": "stdout"
        }
      ]
    },
    {
      "cell_type": "code",
      "metadata": {
        "id": "H3AXQXom57Kj"
      },
      "source": [
        "model.compile(\n",
        "    loss='categorical_crossentropy', \n",
        "    optimizer='adam',\n",
        "    metrics=['accuracy'])"
      ],
      "execution_count": 14,
      "outputs": []
    },
    {
      "cell_type": "code",
      "metadata": {
        "id": "U5-lkWm857NS"
      },
      "source": [
        "history = model.fit(X, Y, epochs=200, verbose=0)"
      ],
      "execution_count": 15,
      "outputs": []
    },
    {
      "cell_type": "code",
      "metadata": {
        "colab": {
          "base_uri": "https://localhost:8080/"
        },
        "id": "2GMAkWJzGNFN",
        "outputId": "cbb52f98-9996-4b14-b3b9-ab1d134678fd"
      },
      "source": [
        "history.history['accuracy'][-1]"
      ],
      "execution_count": 16,
      "outputs": [
        {
          "output_type": "execute_result",
          "data": {
            "text/plain": [
              "0.9090909361839294"
            ]
          },
          "metadata": {
            "tags": []
          },
          "execution_count": 16
        }
      ]
    },
    {
      "cell_type": "markdown",
      "metadata": {
        "id": "1cV1LN5HGTKo"
      },
      "source": [
        "## 모델 검증"
      ]
    },
    {
      "cell_type": "code",
      "metadata": {
        "id": "3nbOv9LX57QC"
      },
      "source": [
        "def sentence_generation(model, t, current_word, n):\n",
        "  init_word = current_word\n",
        "  sentence = ''\n",
        "  for _ in range(n):\n",
        "    encoded = t.texts_to_sequences([current_word])[0]\n",
        "    encoded = pad_sequences([encoded], maxlen=5, padding='pre')\n",
        "    # result = model.predict_classes(encoded, verbose=0) # deprecate predict_classes\n",
        "    result = np.argmax(model.predict(encoded), axis=-1)\n",
        "\n",
        "    for word, index in t.word_index.items():\n",
        "      if index == result:\n",
        "        break\n",
        "    current_word = current_word + ' ' + word\n",
        "    sentence = sentence + ' ' + word\n",
        "\n",
        "  sentence = init_word + sentence\n",
        "  return sentence"
      ],
      "execution_count": 17,
      "outputs": []
    },
    {
      "cell_type": "code",
      "metadata": {
        "colab": {
          "base_uri": "https://localhost:8080/",
          "height": 35
        },
        "id": "UM9MSko_57Sp",
        "outputId": "d818c9fe-2b6b-4f6e-fefc-d68cbb5e98ce"
      },
      "source": [
        "sentence_generation(model, t, '경마장에', 3)"
      ],
      "execution_count": 18,
      "outputs": [
        {
          "output_type": "execute_result",
          "data": {
            "application/vnd.google.colaboratory.intrinsic+json": {
              "type": "string"
            },
            "text/plain": [
              "'경마장에 말이 말이 뛰고'"
            ]
          },
          "metadata": {
            "tags": []
          },
          "execution_count": 18
        }
      ]
    },
    {
      "cell_type": "code",
      "metadata": {
        "colab": {
          "base_uri": "https://localhost:8080/",
          "height": 35
        },
        "id": "CCkzBRxs57Uo",
        "outputId": "fa1bebc0-6586-4d0b-855c-0b66eb354984"
      },
      "source": [
        "sentence_generation(model, t, '그의', 2)"
      ],
      "execution_count": 19,
      "outputs": [
        {
          "output_type": "execute_result",
          "data": {
            "application/vnd.google.colaboratory.intrinsic+json": {
              "type": "string"
            },
            "text/plain": [
              "'그의 말이 법이다'"
            ]
          },
          "metadata": {
            "tags": []
          },
          "execution_count": 19
        }
      ]
    },
    {
      "cell_type": "code",
      "metadata": {
        "colab": {
          "base_uri": "https://localhost:8080/",
          "height": 35
        },
        "id": "ilqE4qEc57XL",
        "outputId": "94986c1b-b1ac-401f-925c-ba0f6ae25ad6"
      },
      "source": [
        "sentence_generation(model, t, '가는', 5)"
      ],
      "execution_count": 20,
      "outputs": [
        {
          "output_type": "execute_result",
          "data": {
            "application/vnd.google.colaboratory.intrinsic+json": {
              "type": "string"
            },
            "text/plain": [
              "'가는 말이 고와야 오는 말이 곱다'"
            ]
          },
          "metadata": {
            "tags": []
          },
          "execution_count": 20
        }
      ]
    },
    {
      "cell_type": "markdown",
      "metadata": {
        "id": "DbrfYAowJzjq"
      },
      "source": [
        "## 함수 풀이 과정"
      ]
    },
    {
      "cell_type": "code",
      "metadata": {
        "colab": {
          "base_uri": "https://localhost:8080/"
        },
        "id": "RMU956xw57Zr",
        "outputId": "49df8edc-40d0-4683-ee12-fbb5bd34b72e"
      },
      "source": [
        "enc = t.texts_to_sequences(['경마장에'])[0]\n",
        "enc = pad_sequences([enc], maxlen=5, padding='pre')\n",
        "enc"
      ],
      "execution_count": 21,
      "outputs": [
        {
          "output_type": "execute_result",
          "data": {
            "text/plain": [
              "array([[0, 0, 0, 0, 2]], dtype=int32)"
            ]
          },
          "metadata": {
            "tags": []
          },
          "execution_count": 21
        }
      ]
    },
    {
      "cell_type": "code",
      "metadata": {
        "colab": {
          "base_uri": "https://localhost:8080/"
        },
        "id": "eO6lGNLv57by",
        "outputId": "d7e1aa25-d172-4c43-efc7-38645df4783f"
      },
      "source": [
        "result = np.argmax(model.predict(enc), axis=-1)\n",
        "result"
      ],
      "execution_count": 22,
      "outputs": [
        {
          "output_type": "execute_result",
          "data": {
            "text/plain": [
              "array([1])"
            ]
          },
          "metadata": {
            "tags": []
          },
          "execution_count": 22
        }
      ]
    },
    {
      "cell_type": "code",
      "metadata": {
        "colab": {
          "base_uri": "https://localhost:8080/"
        },
        "id": "jF9LXBh757eP",
        "outputId": "4b9c3705-5abd-4e88-8d8f-1c0144359137"
      },
      "source": [
        "for word, index in t.word_index.items():\n",
        "      if index == result:\n",
        "        break\n",
        "print(word)"
      ],
      "execution_count": 23,
      "outputs": [
        {
          "output_type": "stream",
          "text": [
            "말이\n"
          ],
          "name": "stdout"
        }
      ]
    },
    {
      "cell_type": "markdown",
      "metadata": {
        "id": "IQBANiaEaTES"
      },
      "source": [
        "## 모델 변화\n",
        "- Embedding Vector 갯수: [2, 4, 6, 8]\n",
        "- RNN 노드 갯수: [24, 32]"
      ]
    },
    {
      "cell_type": "code",
      "metadata": {
        "colab": {
          "base_uri": "https://localhost:8080/"
        },
        "id": "N4kV3zY_JKXh",
        "outputId": "abd85531-3f10-48bf-fdb7-dd96d465788a"
      },
      "source": [
        "def execute_model(n_embed, n_rnn):\n",
        "  model = Sequential()\n",
        "  \n",
        "  model.add(Embedding(input_dim=vocab_size, output_dim=n_embed, input_length=max_len-1))\n",
        "  model.add(SimpleRNN(n_rnn))\n",
        "  model.add(Dense(units=vocab_size, activation='softmax'))\n",
        "\n",
        "  model.compile(loss='categorical_crossentropy', optimizer='adam', metrics=['accuracy'])\n",
        "  \n",
        "  history = model.fit(X, Y, epochs=200, verbose=0)\n",
        "  accuracy = history.history['accuracy'][-1]\n",
        "\n",
        "  print(\"Accuracy: {:.4f}\".format(accuracy))\n",
        "\n",
        "  print(sentence_generation(model, t, '경마장에', 3))\n",
        "  print(sentence_generation(model, t, '그의', 2))\n",
        "  print(sentence_generation(model, t, '가는', 5))\n",
        "\n",
        "for n_embed in [2, 4, 6, 8]:\n",
        "  for n_rnn in [24, 32]:\n",
        "    print(\"===================\")\n",
        "    print(\"n_embed={}\".format(n_embed), \"n_rnn={}\".format(n_rnn))\n",
        "    execute_model(n_embed, n_rnn)\n",
        "    print()"
      ],
      "execution_count": 26,
      "outputs": [
        {
          "output_type": "stream",
          "text": [
            "===================\n",
            "n_embed=2 n_rnn=24\n",
            "Accuracy: 0.8182\n",
            "경마장에 말이 고와야 오는\n",
            "그의 말이 고와야\n",
            "가는 말이 고와야 오는 말이 곱다\n",
            "\n",
            "===================\n",
            "n_embed=2 n_rnn=32\n",
            "Accuracy: 0.9091\n",
            "경마장에 말이 말이 말이\n",
            "그의 말이 법이다\n",
            "가는 말이 고와야 오는 말이 곱다\n",
            "\n",
            "===================\n",
            "n_embed=4 n_rnn=24\n",
            "Accuracy: 1.0000\n",
            "경마장에 있는 말이 뛰고\n",
            "그의 말이 법이다\n",
            "가는 말이 고와야 오는 말이 곱다\n",
            "\n",
            "===================\n",
            "n_embed=4 n_rnn=32\n",
            "Accuracy: 0.8182\n",
            "경마장에 말이 말이 뛰고\n",
            "그의 말이 법이다\n",
            "가는 말이 말이 오는 말이 곱다\n",
            "\n",
            "===================\n",
            "n_embed=6 n_rnn=24\n",
            "Accuracy: 0.9091\n",
            "경마장에 말이 말이 뛰고\n",
            "그의 말이 법이다\n",
            "가는 말이 고와야 오는 말이 곱다\n",
            "\n",
            "===================\n",
            "n_embed=6 n_rnn=32\n",
            "Accuracy: 1.0000\n",
            "경마장에 있는 말이 뛰고\n",
            "그의 말이 법이다\n",
            "가는 말이 고와야 오는 말이 곱다\n",
            "\n",
            "===================\n",
            "n_embed=8 n_rnn=24\n",
            "Accuracy: 1.0000\n",
            "경마장에 있는 말이 뛰고\n",
            "그의 말이 법이다\n",
            "가는 말이 고와야 오는 말이 곱다\n",
            "\n",
            "===================\n",
            "n_embed=8 n_rnn=32\n",
            "Accuracy: 1.0000\n",
            "경마장에 있는 말이 뛰고\n",
            "그의 말이 법이다\n",
            "가는 말이 고와야 오는 말이 곱다\n",
            "\n"
          ],
          "name": "stdout"
        }
      ]
    },
    {
      "cell_type": "code",
      "metadata": {
        "id": "HIBNuzojJKz4"
      },
      "source": [
        ""
      ],
      "execution_count": 23,
      "outputs": []
    }
  ]
}