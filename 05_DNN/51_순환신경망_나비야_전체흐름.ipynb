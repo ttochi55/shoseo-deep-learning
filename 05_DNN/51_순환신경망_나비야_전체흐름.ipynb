{
  "nbformat": 4,
  "nbformat_minor": 0,
  "metadata": {
    "colab": {
      "name": "51_순환신경망_나비야_전체흐름.ipynb",
      "provenance": [],
      "collapsed_sections": []
    },
    "kernelspec": {
      "name": "python3",
      "display_name": "Python 3"
    },
    "accelerator": "GPU"
  },
  "cells": [
    {
      "cell_type": "markdown",
      "metadata": {
        "id": "KOvS5TjupLCk"
      },
      "source": [
        "# 순환 신경망 - 나비야\n",
        "\n",
        "- 출처: <https://tykimos.github.io/2017/04/09/RNN_Layer_Talk/>"
      ]
    },
    {
      "cell_type": "code",
      "metadata": {
        "id": "hI3NnFN1o7AC"
      },
      "source": [
        "code2idx = {'c4':0, 'd4':1, 'e4':2, 'f4':3, 'g4':4, 'a4':5, 'b4':6,\n",
        "            'c8':7, 'd8':8, 'e8':9, 'f8':10, 'g8':11, 'a8':12, 'b8':13}\n",
        "idx2code = {0:'c4', 1:'d4', 2:'e4', 3:'f4', 4:'g4', 5:'a4', 6:'b4',\n",
        "            7:'c8', 8:'d8', 9:'e8', 10:'f8', 11:'g8', 12:'a8', 13:'b8'}"
      ],
      "execution_count": 1,
      "outputs": []
    },
    {
      "cell_type": "code",
      "metadata": {
        "id": "NzVkYw8KqrF6"
      },
      "source": [
        "import numpy as np\n",
        "\n",
        "def seq2dataset(seq, window_size):\n",
        "    dataset = []\n",
        "    for i in range(len(seq)-window_size):\n",
        "        subset = seq[i:(i+window_size+1)]\n",
        "        dataset.append([code2idx[item] for item in subset])\n",
        "    return np.array(dataset)"
      ],
      "execution_count": 2,
      "outputs": []
    },
    {
      "cell_type": "code",
      "metadata": {
        "colab": {
          "base_uri": "https://localhost:8080/"
        },
        "id": "aH_8iC0WrAT5",
        "outputId": "45054b6d-1fc2-4f27-9719-22a0cb3721c4"
      },
      "source": [
        "seq = ['g8', 'e8', 'e4', 'f8', 'd8', 'd4', 'c8', 'd8', 'e8', 'f8', 'g8', 'g8', 'g4',\n",
        "       'g8', 'e8', 'e8', 'e8', 'f8', 'd8', 'd4', 'c8', 'e8', 'g8', 'g8', 'e8', 'e8', 'e4',\n",
        "       'd8', 'd8', 'd8', 'd8', 'd8', 'e8', 'f4', 'e8', 'e8', 'e8', 'e8', 'e8', 'f8', 'g4',\n",
        "       'g8', 'e8', 'e4', 'f8', 'd8', 'd4', 'c8', 'e8', 'g8', 'g8', 'e8', 'e8', 'e4']\n",
        "\n",
        "dataset = seq2dataset(seq, window_size = 4)\n",
        "\n",
        "print(dataset.shape)\n",
        "print(dataset[:5])"
      ],
      "execution_count": 4,
      "outputs": [
        {
          "output_type": "stream",
          "text": [
            "(50, 5)\n",
            "[[11  9  2 10  8]\n",
            " [ 9  2 10  8  1]\n",
            " [ 2 10  8  1  7]\n",
            " [10  8  1  7  8]\n",
            " [ 8  1  7  8  9]]\n"
          ],
          "name": "stdout"
        }
      ]
    },
    {
      "cell_type": "markdown",
      "metadata": {
        "id": "zC9dOMpAsInC"
      },
      "source": [
        "## 학습과정\n",
        "“나비야”노래는 우리에게 너무나 익숙한 노래입니다. 만약 옆사람이 “나비야~ 나”까지만 불러도 나머지를 이어서 다 부를 수 있을 정도로 말이죠. 이렇게 첫 4개 음표를 입력하면 나머지를 연주할 수 있는 모델을 만드는 것이 목표입니다. 우리가 정의한 문제를 풀기 위해 먼저 모델을 학습시켜야 합니다. 학습 시키는 방식은 아래와 같습니다.\n",
        "\n",
        "- 파란색 박스가 입력값이고, 빨간색 박스가 우리가 원하는 출력값입니다.\n",
        "- 1~4번째 음표를 데이터로 5번째 음표를 라벨값으로 학습을 시킵니다.\n",
        "- 다음에는 2~5번째 음표를 데이터로 6번째 음표를 라벨값으로 학습을 시킵니다.\n",
        "- 이후 한 음표씩 넘어가면서 노래 끝까지 학습시킵니다."
      ]
    },
    {
      "cell_type": "markdown",
      "metadata": {
        "id": "LHb3E0G0smBC"
      },
      "source": [
        "## 예측 과정\n",
        "예측은 두 가지 방법으로 해보겠습니다. 한 스텝 예측과 곡 전체 예측입니다."
      ]
    },
    {
      "cell_type": "markdown",
      "metadata": {
        "id": "R389M9W-tGO7"
      },
      "source": [
        "### 한 스텝 예측\n",
        "한 스텝 예측이란 실제 음표 4개를 입력하여 다음 음표 1개를 예측하는 것을 반복하는 것입니다. 이 방법에서는 모델의 입력값으로는 항상 실제 음표가 들어갑니다.\n",
        "\n",
        "- 모델에 t0, t1, t2, t3를 입력하면 y0 출력이 나옵니다.\n",
        "- 모델에 t1, t2, t3, t4를 입력하면 y1 출력이 나옵니다.\n",
        "- 모델에 t2, t3, t4, t5를 입력하면 y2 출력이 나옵니다.\n",
        "- 이 과정을 y49 출력까지 반복합니다."
      ]
    },
    {
      "cell_type": "markdown",
      "metadata": {
        "id": "B35gAaqltF90"
      },
      "source": [
        "### 곡 전체 예측\n",
        "곡 전체 예측이란 입력된 초가 4개 음표만을 입력으로 곡 전체를 예측하는 것입니다. 초반부가 지나면, 예측값만으로 모델에 입력되어 다음 예측값이 나오는 식입니다. 그야말로 “나비야~ 나”까지 알려주면 나머지까지 모두 연주를 하는 것이죠. 만약 중간에 틀린 부분이 생긴다면, 이후 음정, 박자는 모두 이상하게 될 가능성이 많습니다. 예측 오류가 누적되는 것이겠죠.\n",
        "\n",
        "- 모델에 t0, t1, t2, t3를 입력하면 y0 출력이 나옵니다.\n",
        "- 예측값인 y0를 t4라고 가정하고, 모델에 t1, t2, t3, t4을 입력하면 y1 출력이 나옵니다.\n",
        "- 예측값인 y1을 t5라고 가정하고, 모델에 t2, t3, t4(예측값), t5(예측값)을 입력하면 y2 출력이 나옵니다.\n",
        "- 이 과정을 y49 출력까지 반복합니다."
      ]
    },
    {
      "cell_type": "code",
      "metadata": {
        "id": "o0nn6b0_pPRE"
      },
      "source": [
        ""
      ],
      "execution_count": null,
      "outputs": []
    }
  ]
}